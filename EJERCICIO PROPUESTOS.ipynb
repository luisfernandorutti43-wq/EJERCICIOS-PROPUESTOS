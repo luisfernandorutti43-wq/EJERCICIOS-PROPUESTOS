{
  "nbformat": 4,
  "nbformat_minor": 0,
  "metadata": {
    "colab": {
      "provenance": [],
      "authorship_tag": "ABX9TyMV2zcwf5kG7X0JytSC36nQ",
      "include_colab_link": true
    },
    "kernelspec": {
      "name": "python3",
      "display_name": "Python 3"
    },
    "language_info": {
      "name": "python"
    }
  },
  "cells": [
    {
      "cell_type": "markdown",
      "metadata": {
        "id": "view-in-github",
        "colab_type": "text"
      },
      "source": [
        "<a href=\"https://colab.research.google.com/github/luisfernandorutti43-wq/EJERCICIOS-PROPUESTOS/blob/main/EJERCICIO%20PROPUESTOS.ipynb\" target=\"_parent\"><img src=\"https://colab.research.google.com/assets/colab-badge.svg\" alt=\"Open In Colab\"/></a>"
      ]
    },
    {
      "cell_type": "code",
      "execution_count": 1,
      "metadata": {
        "id": "SN263nbIiKtX"
      },
      "outputs": [],
      "source": [
        "\n",
        "\n",
        "import numpy as np"
      ]
    },
    {
      "cell_type": "markdown",
      "source": [
        "EJERCICIOS 1"
      ],
      "metadata": {
        "id": "0c_XqKokiv6R"
      }
    },
    {
      "cell_type": "code",
      "source": [
        "\n",
        "materias = np.array(' Matemáticas, Física, Química, Historia,Lengua')\n",
        "print (materias)\n",
        "\n",
        "np.save('materias',materias)"
      ],
      "metadata": {
        "colab": {
          "base_uri": "https://localhost:8080/"
        },
        "id": "l9F1Z_mLizPf",
        "outputId": "8db80961-07c3-42d7-85f1-50af3db92dae"
      },
      "execution_count": 2,
      "outputs": [
        {
          "output_type": "stream",
          "name": "stdout",
          "text": [
            " Matemáticas, Física, Química, Historia,Lengua\n"
          ]
        }
      ]
    },
    {
      "cell_type": "markdown",
      "source": [
        "EJERCICIO 2"
      ],
      "metadata": {
        "id": "dsqwe-p9i4qf"
      }
    },
    {
      "cell_type": "code",
      "source": [
        "\n",
        "\n",
        "materias= [ \"Matemáticas\", \"Física\", \"Química\", \"Historia\",\"Lengua\"]\n",
        "\n",
        "\n",
        "for materia in materias:\n",
        "\n",
        "  print(f\"yo estudio {materia}\")\n",
        "np.save('eje2materias', materias)"
      ],
      "metadata": {
        "colab": {
          "base_uri": "https://localhost:8080/"
        },
        "id": "5CIGZv3Ni664",
        "outputId": "ae2eb3a1-3344-4802-cf50-1cc2826f38f2"
      },
      "execution_count": 3,
      "outputs": [
        {
          "output_type": "stream",
          "name": "stdout",
          "text": [
            "yo estudio Matemáticas\n",
            "yo estudio Física\n",
            "yo estudio Química\n",
            "yo estudio Historia\n",
            "yo estudio Lengua\n"
          ]
        }
      ]
    },
    {
      "cell_type": "markdown",
      "source": [
        "EJERCICIO 3"
      ],
      "metadata": {
        "id": "2PmBNH0zjAzg"
      }
    },
    {
      "cell_type": "code",
      "source": [
        "# Lista de asignaturas\n",
        "materias = [\"Matemáticas\", \"Física\", \"Química\", \"Historia\", \"Lengua\"]\n",
        "\n",
        "# Lista para guardar las notas\n",
        "notas = []\n",
        "\n",
        "# Pedir al usuario la nota de cada asignatura\n",
        "\n",
        "for materia in materias:\n",
        "    while True:\n",
        "        try:\n",
        "            nota = float(input(f\"Introduce la nota de {materia}: \"))\n",
        "            if 0 <= nota <= 20:\n",
        "                notas.append(nota)\n",
        "                break\n",
        "            else:\n",
        "                print(\"Por favor, introduce una nota entre 0 y 20.\")\n",
        "        except ValueError:\n",
        "            print(\"Por favor, introduce un número válido.\")\n",
        "\n",
        "# Mostrar las asignaturas con sus notas\n",
        "for asignatura, nota in zip(materias, notas):\n",
        "    print(f\"En {asignatura} has sacado {nota}\")\n",
        "\n",
        "\n",
        "np.save('eje3materias',materias)"
      ],
      "metadata": {
        "colab": {
          "base_uri": "https://localhost:8080/"
        },
        "id": "DFj5V0PCjC8g",
        "outputId": "bd73f425-fe00-461e-830c-66479d836a6a"
      },
      "execution_count": 4,
      "outputs": [
        {
          "output_type": "stream",
          "name": "stdout",
          "text": [
            "Introduce la nota de Matemáticas: 0\n",
            "Introduce la nota de Física: 0\n",
            "Introduce la nota de Química: 0\n",
            "Introduce la nota de Historia: 0\n",
            "Introduce la nota de Lengua: 0\n",
            "En Matemáticas has sacado 0.0\n",
            "En Física has sacado 0.0\n",
            "En Química has sacado 0.0\n",
            "En Historia has sacado 0.0\n",
            "En Lengua has sacado 0.0\n"
          ]
        }
      ]
    },
    {
      "cell_type": "markdown",
      "source": [
        "EJERCICIO 4"
      ],
      "metadata": {
        "id": "RyXgiBPWjMFz"
      }
    },
    {
      "cell_type": "code",
      "source": [
        "# Lista para almacenar los números ganadores\n",
        "ganadores = []\n",
        "\n",
        "# Preguntar al usuario 6 números ganadores\n",
        "print(\"Introduce los 6 números ganadores de la lotería primitiva:\")\n",
        "\n",
        "while len(ganadores) < 6:\n",
        "    try:\n",
        "        num = int(input(f\"Número {len(ganadores)+1}: \"))\n",
        "        if 1 <= num <= 10:  # rango típico para la lotería primitiva\n",
        "            if num not in ganadores:\n",
        "                ganadores.append(num)\n",
        "            else:\n",
        "                print(\"Ese número ya lo has introducido, prueba con otro.\")\n",
        "        else:\n",
        "            print(\"Introduce un número entre 1 y 10.\")\n",
        "    except ValueError:\n",
        "        print(\"Por favor, introduce un número entero válido.\")\n",
        "\n",
        "# Ordenar la lista de menor a mayor\n",
        "ganadores.sort()\n",
        "\n",
        "# Mostrar los números ordenados\n",
        "print(\"Los números ganadores ordenados son:\")\n",
        "print(ganadores)\n",
        "np.save('eje4',ganadores)"
      ],
      "metadata": {
        "colab": {
          "base_uri": "https://localhost:8080/"
        },
        "id": "bWurAKNljOuJ",
        "outputId": "93326872-6d69-4e00-97ac-1c030102ac66"
      },
      "execution_count": 5,
      "outputs": [
        {
          "output_type": "stream",
          "name": "stdout",
          "text": [
            "Introduce los 6 números ganadores de la lotería primitiva:\n",
            "Número 1: 1\n",
            "Número 2: 2\n",
            "Número 3: 3\n",
            "Número 4: 4\n",
            "Número 5: 5\n",
            "Número 6: 6\n",
            "Los números ganadores ordenados son:\n",
            "[1, 2, 3, 4, 5, 6]\n"
          ]
        }
      ]
    },
    {
      "cell_type": "markdown",
      "source": [
        "EJERCICIO 5"
      ],
      "metadata": {
        "id": "qzzb7emLjdQH"
      }
    },
    {
      "cell_type": "code",
      "source": [
        "\n",
        "numeros=[1,2,3,4,5,6,7,8,9,10]\n",
        "numeros_inverso =numeros [::-1]\n",
        "print (numeros_inverso)"
      ],
      "metadata": {
        "colab": {
          "base_uri": "https://localhost:8080/"
        },
        "id": "SVczk05rjgnI",
        "outputId": "b269ffee-aa3f-4c15-89c4-4d176edc9d3b"
      },
      "execution_count": 6,
      "outputs": [
        {
          "output_type": "stream",
          "name": "stdout",
          "text": [
            "[10, 9, 8, 7, 6, 5, 4, 3, 2, 1]\n"
          ]
        }
      ]
    },
    {
      "cell_type": "markdown",
      "source": [
        "EJERCICIO 6"
      ],
      "metadata": {
        "id": "PqNJc6ibjsyw"
      }
    },
    {
      "cell_type": "code",
      "source": [
        "\n",
        "# Lista de MATERIAS\n",
        "materias = [\"Matemáticas\", \"Física\", \"Química\", \"Historia\", \"Lengua\"]\n",
        "\n",
        "# Lista para guardar materias que hay que repetir\n",
        "materias_repetir = []\n",
        "\n",
        "# Preguntar nota para cada asignatura\n",
        "for materia in materias:\n",
        "    nota = float(input(f\"Introduce la nota de {materia}: \"))\n",
        "    if nota < 11:\n",
        "        materias_repetir.append(materia)\n",
        "\n",
        "# Mostrar materias que hay que repetir\n",
        "if materias_repetir:\n",
        "    print(\"Debes repetir las siguientes meterias:\")\n",
        "    for materia in materias_repetir:\n",
        "        print(materia)\n",
        "else:\n",
        "    print(\"¡Enhorabuena! Has aprobado todas las materias.\")"
      ],
      "metadata": {
        "colab": {
          "base_uri": "https://localhost:8080/"
        },
        "id": "GNx0hb-FjxXv",
        "outputId": "3c5b6515-c4d4-4556-86c6-94293f766be9"
      },
      "execution_count": 7,
      "outputs": [
        {
          "output_type": "stream",
          "name": "stdout",
          "text": [
            "Introduce la nota de Matemáticas: 0\n",
            "Introduce la nota de Física: 9\n",
            "Introduce la nota de Química: 9\n",
            "Introduce la nota de Historia: 8\n",
            "Introduce la nota de Lengua: 11\n",
            "Debes repetir las siguientes meterias:\n",
            "Matemáticas\n",
            "Física\n",
            "Química\n",
            "Historia\n"
          ]
        }
      ]
    },
    {
      "cell_type": "markdown",
      "source": [
        "EJERCICIO 7"
      ],
      "metadata": {
        "id": "J5AMLrcrlEwA"
      }
    },
    {
      "cell_type": "code",
      "source": [
        "import string  # ¡Este import es necesario!\n",
        "\n",
        "# Paso 1: Crear lista con el abecedario\n",
        "abecedario = list(string.ascii_lowercase)  # ['a', 'b', 'c', ..., 'z']\n",
        "\n",
        "# Paso 2: Eliminar letras en posiciones múltiplos de 3 (posición humana, empezando desde 1)\n",
        "resultado = [letra for i, letra in enumerate(abecedario, start=1) if i % 3 != 0]\n",
        "\n",
        "# Paso 3: Mostrar resultado\n",
        "print(\"Lista resultante:\")\n",
        "print(resultado)\n"
      ],
      "metadata": {
        "colab": {
          "base_uri": "https://localhost:8080/"
        },
        "id": "oi2mevIwlJPn",
        "outputId": "28c91818-86db-4eb7-90fb-d617b5e00e6a"
      },
      "execution_count": 10,
      "outputs": [
        {
          "output_type": "stream",
          "name": "stdout",
          "text": [
            "Lista resultante:\n",
            "['a', 'b', 'd', 'e', 'g', 'h', 'j', 'k', 'm', 'n', 'p', 'q', 's', 't', 'v', 'w', 'y', 'z']\n"
          ]
        }
      ]
    },
    {
      "cell_type": "markdown",
      "source": [
        "EJERCICIO 8"
      ],
      "metadata": {
        "id": "lppHdz1WmF74"
      }
    },
    {
      "cell_type": "code",
      "source": [
        "# Pedimos la palabra al usuario\n",
        "palabra = input(\"Ingresa una palabra: \")\n",
        "\n",
        "# Convertimos la palabra a minúsculas para evitar errores por mayúsculas\n",
        "palabra = palabra.lower()\n",
        "\n",
        "# Verificamos si es palíndromo comparando con su versión invertida\n",
        "if palabra == palabra[::-1]:\n",
        "    print(\"Sí, es un palíndromo.\")\n",
        "else:\n",
        "    print(\"No, no es un palíndromo.\")\n"
      ],
      "metadata": {
        "colab": {
          "base_uri": "https://localhost:8080/"
        },
        "id": "QOFiqtJjmIDW",
        "outputId": "1c801863-151a-4411-d29b-f3a318f561c0"
      },
      "execution_count": 11,
      "outputs": [
        {
          "output_type": "stream",
          "name": "stdout",
          "text": [
            "Ingresa una palabra: A\n",
            "Sí, es un palíndromo.\n"
          ]
        }
      ]
    },
    {
      "cell_type": "markdown",
      "source": [
        "EJERCICIO 9"
      ],
      "metadata": {
        "id": "CgHqd8AZmsEZ"
      }
    },
    {
      "cell_type": "code",
      "source": [
        "# Pedimos la palabra al usuario\n",
        "palabra = input(\"Ingresa una palabra: \")\n",
        "\n",
        "# Convertimos la palabra a minúsculas para evitar errores con mayúsculas\n",
        "palabra = palabra.lower()\n",
        "\n",
        "# Creamos un diccionario para contar las vocales\n",
        "vocales = {'a': 0, 'e': 0, 'i': 0, 'o': 0, 'u': 0}\n",
        "\n",
        "# Recorremos cada letra de la palabra\n",
        "for letra in palabra:\n",
        "    if letra in vocales:\n",
        "        vocales[letra] += 1\n",
        "\n",
        "# Mostramos cuántas veces aparece cada vocal\n",
        "print(\"\\nNúmero de veces que aparece cada vocal:\")\n",
        "for vocal, cantidad in vocales.items():\n",
        "    print(f\"{vocal}: {cantidad}\")\n"
      ],
      "metadata": {
        "colab": {
          "base_uri": "https://localhost:8080/"
        },
        "id": "LEAUQGzemrJY",
        "outputId": "9c9f124a-b634-4913-88d7-57582b639986"
      },
      "execution_count": 12,
      "outputs": [
        {
          "output_type": "stream",
          "name": "stdout",
          "text": [
            "Ingresa una palabra: 2\n",
            "\n",
            "Número de veces que aparece cada vocal:\n",
            "a: 0\n",
            "e: 0\n",
            "i: 0\n",
            "o: 0\n",
            "u: 0\n"
          ]
        }
      ]
    },
    {
      "cell_type": "markdown",
      "source": [
        "EJERCICIO 10"
      ],
      "metadata": {
        "id": "u52S6uLKnEeo"
      }
    },
    {
      "cell_type": "code",
      "source": [
        "# Lista de precios\n",
        "precios = [50, 75, 46, 22, 80, 65, 8]\n",
        "\n",
        "# Obtenemos el menor y el mayor valor\n",
        "precio_menor = min(precios)\n",
        "precio_mayor = max(precios)\n",
        "\n",
        "# Mostramos los resultados\n",
        "print(\"El precio menor es:\", precio_menor)\n",
        "print(\"El precio mayor es:\", precio_mayor)\n"
      ],
      "metadata": {
        "colab": {
          "base_uri": "https://localhost:8080/"
        },
        "id": "rVh9tt_1nJN3",
        "outputId": "37de9223-6dec-40bd-c9aa-f9ca276aee67"
      },
      "execution_count": 13,
      "outputs": [
        {
          "output_type": "stream",
          "name": "stdout",
          "text": [
            "El precio menor es: 8\n",
            "El precio mayor es: 80\n"
          ]
        }
      ]
    },
    {
      "cell_type": "markdown",
      "source": [
        "EJERCICIO 11"
      ],
      "metadata": {
        "id": "gVETRycpnaTw"
      }
    },
    {
      "cell_type": "code",
      "source": [
        "# Vectores como listas\n",
        "v1 = [1, 2, 3]\n",
        "v2 = [-1, 0, 2]\n",
        "\n",
        "# Calculamos el producto escalar\n",
        "producto_escalar = sum(a * b for a, b in zip(v1, v2))\n",
        "\n",
        "# Mostramos el resultado\n",
        "print(\"El producto escalar es:\", producto_escalar)\n"
      ],
      "metadata": {
        "colab": {
          "base_uri": "https://localhost:8080/"
        },
        "id": "_Jjcq9GVnfwH",
        "outputId": "ea036c9e-6c87-4d38-b402-a8cc27410da6"
      },
      "execution_count": 14,
      "outputs": [
        {
          "output_type": "stream",
          "name": "stdout",
          "text": [
            "El producto escalar es: 5\n"
          ]
        }
      ]
    },
    {
      "cell_type": "markdown",
      "source": [
        "EJERCICIO 12"
      ],
      "metadata": {
        "id": "oe21RzbInqOX"
      }
    },
    {
      "cell_type": "code",
      "source": [
        "# Definir las matrices A y B\n",
        "A = [[1, 2, 3],\n",
        "     [4, 5, 6]]\n",
        "\n",
        "B = [[7, 8],\n",
        "     [9, 10],\n",
        "     [11, 12]]\n",
        "\n",
        "# Creamos una matriz resultado de ceros con tamaño 2x2\n",
        "resultado = [[0, 0],\n",
        "             [0, 0]]\n",
        "\n",
        "# Realizamos la multiplicación de matrices\n",
        "for i in range(len(A)):           # Recorre filas de A\n",
        "    for j in range(len(B[0])):    # Recorre columnas de B\n",
        "        for k in range(len(B)):   # Recorre elementos para multiplicar y sumar\n",
        "            resultado[i][j] += A[i][k] * B[k][j]\n",
        "\n",
        "# Mostramos el resultado\n",
        "print(\"El producto de las matrices es:\")\n",
        "for fila in resultado:\n",
        "    print(fila)\n"
      ],
      "metadata": {
        "colab": {
          "base_uri": "https://localhost:8080/"
        },
        "id": "8Ivqm__Tns23",
        "outputId": "6b513fee-3663-471a-ac1f-174103630f8e"
      },
      "execution_count": 15,
      "outputs": [
        {
          "output_type": "stream",
          "name": "stdout",
          "text": [
            "El producto de las matrices es:\n",
            "[58, 64]\n",
            "[139, 154]\n"
          ]
        }
      ]
    },
    {
      "cell_type": "markdown",
      "source": [],
      "metadata": {
        "id": "KH6LqJOSn3JH"
      }
    },
    {
      "cell_type": "markdown",
      "source": [
        "EJERCICIO 13"
      ],
      "metadata": {
        "id": "CLakDGNSn5en"
      }
    },
    {
      "cell_type": "code",
      "source": [
        "# Pedimos al usuario una muestra de números\n",
        "entrada = input(\"Ingresa números separados por comas: \")\n",
        "\n",
        "# Convertimos la entrada en una lista de números flotantes\n",
        "numeros = [float(x) for x in entrada.split(',')]\n",
        "\n",
        "# Calculamos la media\n",
        "media = sum(numeros) / len(numeros)\n",
        "\n",
        "# Calculamos la desviación típica\n",
        "# Paso 1: calcular varianza\n",
        "varianza = sum((x - media) ** 2 for x in numeros) / len(numeros)\n",
        "\n",
        "# Paso 2: sacar raíz cuadrada para la desviación estándar\n",
        "desviacion = varianza ** 0.5\n",
        "\n",
        "# Mostramos los resultados\n",
        "print(f\"\\nMedia: {media}\")\n",
        "print(f\"Desviación típica: {desviacion}\")\n"
      ],
      "metadata": {
        "colab": {
          "base_uri": "https://localhost:8080/"
        },
        "id": "RiAZ17Z0n7rn",
        "outputId": "ae73bc7f-b716-4b2f-c46f-304cc466a67b"
      },
      "execution_count": 16,
      "outputs": [
        {
          "output_type": "stream",
          "name": "stdout",
          "text": [
            "Ingresa números separados por comas: 10, 20, 30, 40, 50\n",
            "\n",
            "Media: 30.0\n",
            "Desviación típica: 14.142135623730951\n"
          ]
        }
      ]
    }
  ]
}